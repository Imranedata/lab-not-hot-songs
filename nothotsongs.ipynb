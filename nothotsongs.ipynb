{
 "cells": [
  {
   "cell_type": "code",
   "execution_count": 5,
   "id": "7f804d91",
   "metadata": {},
   "outputs": [],
   "source": [
    "import pandas as pd\n",
    "df = pd.read_csv('dataset.csv')\n",
    "df\n",
    "\n",
    "df.isna().sum()\n",
    "df = df.dropna()\n",
    "df\n",
    "\n",
    "#copy of df with only two columns\n",
    "songs_df = df[['track_name', 'artists']].copy()\n",
    "#lowercase values\n",
    "songs_df = songs_df.applymap(lambda s: s.lower() if type(s) == str else s)\n",
    "#drop duplicate entries\n",
    "songs_df = songs_df.drop_duplicates().reset_index()\n",
    "songs_df\n",
    "\n",
    "hot_songs = pd.read_csv('hot_songs')\n",
    "hot_songs=hot_songs.rename(columns={'Titles': 'track_name', 'Artists': 'artists'})\n",
    "hot_songs\n",
    "\n",
    "final_not_hot_songs = songs_df[~songs_df['track_name'].isin(hot_songs['track_name'])]\n",
    "final_not_hot_songs\n",
    "\n",
    "not_hot_songs = songs_df.sample(3000, random_state=42)\n",
    "not_hot_songs\n",
    "\n",
    "not_hot_songs.to_csv('not_hot_songs.csv', index=False)"
   ]
  },
  {
   "cell_type": "code",
   "execution_count": null,
   "id": "343d366a",
   "metadata": {},
   "outputs": [],
   "source": []
  }
 ],
 "metadata": {
  "kernelspec": {
   "display_name": "Python 3 (ipykernel)",
   "language": "python",
   "name": "python3"
  },
  "language_info": {
   "codemirror_mode": {
    "name": "ipython",
    "version": 3
   },
   "file_extension": ".py",
   "mimetype": "text/x-python",
   "name": "python",
   "nbconvert_exporter": "python",
   "pygments_lexer": "ipython3",
   "version": "3.11.5"
  }
 },
 "nbformat": 4,
 "nbformat_minor": 5
}
